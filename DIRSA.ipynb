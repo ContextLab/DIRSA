{
 "cells": [
  {
   "cell_type": "code",
   "execution_count": 5,
   "metadata": {},
   "outputs": [],
   "source": [
    "import hypertools as hyp\n",
    "import numpy as np\n",
    "from scipy.spatial.distance import pdist, cdist"
   ]
  },
  {
   "cell_type": "code",
   "execution_count": 4,
   "metadata": {},
   "outputs": [],
   "source": [
    "#make a fake dataset\n",
    "T = 1000\n",
    "V = 100"
   ]
  },
  {
   "cell_type": "code",
   "execution_count": 10,
   "metadata": {
    "collapsed": true
   },
   "outputs": [],
   "source": [
    "def io_ratio(observations, group_labels):\n",
    "    unique_groups = np.unique(group_labels)\n",
    "    in_group = np.zeros([1, len(unique_groups)])\n",
    "    out_group = np.zeros([1, len(unique_groups)])\n",
    "    \n",
    "    for g in unique_groups:\n",
    "        in_group[g] = np.array(map(lambda x: np.mean(pdist(np.where(group_labels == g), observations))))\n",
    "        out_group[g] = np.array(map(lambda x, y: np.mean(cdist(np.where(group_labels == g), observations,\n",
    "                                                              np.where(group_labels != g)))))\n",
    "    \n",
    "    return np.mean(in_group) / np.mean(out_group)\n"
   ]
  },
  {
   "cell_type": "code",
   "execution_count": 8,
   "metadata": {},
   "outputs": [],
   "source": [
    "def dynamic_kmeans(observations, K):\n",
    "    "
   ]
  },
  {
   "cell_type": "code",
   "execution_count": null,
   "metadata": {
    "collapsed": true
   },
   "outputs": [],
   "source": [
    "def dynamic_kmeans_stats(observations, maxK, statfun):"
   ]
  }
 ],
 "metadata": {
  "kernelspec": {
   "display_name": "Python 3",
   "language": "python",
   "name": "python3"
  },
  "language_info": {
   "codemirror_mode": {
    "name": "ipython",
    "version": 3
   },
   "file_extension": ".py",
   "mimetype": "text/x-python",
   "name": "python",
   "nbconvert_exporter": "python",
   "pygments_lexer": "ipython3",
   "version": "3.6.1"
  }
 },
 "nbformat": 4,
 "nbformat_minor": 2
}
